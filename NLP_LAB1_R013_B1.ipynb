{
 "cells": [
  {
   "cell_type": "markdown",
   "metadata": {},
   "source": [
    "Name: Dhruv Pithadia\n",
    "Roll No: R013\n",
    "Program: MBA Tech AI\n",
    "Course: Natural Language Processing\n"
   ]
  },
  {
   "cell_type": "markdown",
   "metadata": {},
   "source": [
    "Task 1"
   ]
  },
  {
   "cell_type": "code",
   "execution_count": 17,
   "metadata": {},
   "outputs": [
    {
     "name": "stdout",
     "output_type": "stream",
     "text": [
      "Hello world\n",
      "Hello Python\n",
      "Good morning\n",
      "How are you\n"
     ]
    }
   ],
   "source": [
    "myfile = open('/Users/dhruvpithadia/Desktop/NMIMS/SEM5/NLP/Lab/Lab_1/Lab_documents/Hello.txt', 'r')\n",
    "print(myfile.read())"
   ]
  },
  {
   "cell_type": "code",
   "execution_count": 20,
   "metadata": {},
   "outputs": [
    {
     "name": "stdout",
     "output_type": "stream",
     "text": [
      "Hello\n"
     ]
    }
   ],
   "source": [
    "#Read first 5 characters of the file\n",
    "myfile = open('/Users/dhruvpithadia/Desktop/NMIMS/SEM5/NLP/Lab/Lab_1/Lab_documents/Hello.txt', 'r')\n",
    "print(myfile.read(5))"
   ]
  },
  {
   "cell_type": "code",
   "execution_count": 21,
   "metadata": {},
   "outputs": [
    {
     "name": "stdout",
     "output_type": "stream",
     "text": [
      "Hello world\n",
      "\n"
     ]
    }
   ],
   "source": [
    "#Readline\n",
    "myfile = open('/Users/dhruvpithadia/Desktop/NMIMS/SEM5/NLP/Lab/Lab_1/Lab_documents/Hello.txt', 'r')\n",
    "print(myfile.readline())"
   ]
  },
  {
   "cell_type": "code",
   "execution_count": 22,
   "metadata": {},
   "outputs": [
    {
     "name": "stdout",
     "output_type": "stream",
     "text": [
      "Hello world\n",
      "\n",
      "Hello Python\n",
      "\n",
      "Good morning\n",
      "\n",
      "How are you\n"
     ]
    }
   ],
   "source": [
    "#Loop\n",
    "myfile = open('/Users/dhruvpithadia/Desktop/NMIMS/SEM5/NLP/Lab/Lab_1/Lab_documents/Hello.txt', 'r')\n",
    "for _ in myfile:\n",
    "    print(_)"
   ]
  },
  {
   "cell_type": "code",
   "execution_count": 23,
   "metadata": {},
   "outputs": [
    {
     "name": "stdout",
     "output_type": "stream",
     "text": [
      "Hello world\n",
      "\n"
     ]
    }
   ],
   "source": [
    "#Close File\n",
    "#Readline\n",
    "myfile = open('/Users/dhruvpithadia/Desktop/NMIMS/SEM5/NLP/Lab/Lab_1/Lab_documents/Hello.txt', 'r')\n",
    "print(myfile.readline())\n",
    "myfile.close()"
   ]
  },
  {
   "cell_type": "code",
   "execution_count": 27,
   "metadata": {},
   "outputs": [
    {
     "name": "stdout",
     "output_type": "stream",
     "text": [
      "Hello world\n",
      "Hello Python\n",
      "Good morning\n",
      "How are youThe user has added some new contentThe user has added some new contentThe user has added some new contentThe user has added some new content\n"
     ]
    }
   ],
   "source": [
    "#Writing in a file\n",
    "myfile = open('/Users/dhruvpithadia/Desktop/NMIMS/SEM5/NLP/Lab/Lab_1/Lab_documents/Hello.txt', 'a') #'a' appends to the end of the file\n",
    "myfile.write('The user has added some new content')\n",
    "myfile = open('/Users/dhruvpithadia/Desktop/NMIMS/SEM5/NLP/Lab/Lab_1/Lab_documents/Hello.txt', 'r')\n",
    "print(myfile.read())\n"
   ]
  },
  {
   "cell_type": "code",
   "execution_count": 29,
   "metadata": {},
   "outputs": [
    {
     "name": "stdout",
     "output_type": "stream",
     "text": [
      "OOps the content has been overwritten!!!!\n"
     ]
    }
   ],
   "source": [
    "#Writing in a file\n",
    "myfile = open('/Users/dhruvpithadia/Desktop/NMIMS/SEM5/NLP/Lab/Lab_1/Lab_documents/Hello.txt', 'w') #'w' overwrites the content\n",
    "myfile.write('OOps the content has been overwritten!!!!')\n",
    "myfile = open('/Users/dhruvpithadia/Desktop/NMIMS/SEM5/NLP/Lab/Lab_1/Lab_documents/Hello.txt', 'r')\n",
    "print(myfile.read())"
   ]
  },
  {
   "cell_type": "code",
   "execution_count": 36,
   "metadata": {},
   "outputs": [],
   "source": [
    "#Make a new file 'test.txt'\n",
    "f = open('/Users/dhruvpithadia/Desktop/NMIMS/SEM5/NLP/Lab/Lab_1/Lab_documents/test.txt','x')"
   ]
  },
  {
   "cell_type": "code",
   "execution_count": 40,
   "metadata": {},
   "outputs": [
    {
     "data": {
      "text/plain": [
       "11"
      ]
     },
     "execution_count": 40,
     "metadata": {},
     "output_type": "execute_result"
    }
   ],
   "source": [
    "g = open('/Users/dhruvpithadia/Desktop/NMIMS/SEM5/NLP/Lab/Lab_1/Lab_documents/test.txt','w')\n",
    "g.write('Hello World')"
   ]
  },
  {
   "cell_type": "code",
   "execution_count": 41,
   "metadata": {},
   "outputs": [
    {
     "name": "stdout",
     "output_type": "stream",
     "text": [
      "Hello World\n"
     ]
    }
   ],
   "source": [
    "g = open('/Users/dhruvpithadia/Desktop/NMIMS/SEM5/NLP/Lab/Lab_1/Lab_documents/test.txt','r')\n",
    "print(g.read())\n"
   ]
  },
  {
   "cell_type": "code",
   "execution_count": 42,
   "metadata": {},
   "outputs": [
    {
     "name": "stdout",
     "output_type": "stream",
     "text": [
      "Hello World\n",
      "Hello Python\n"
     ]
    }
   ],
   "source": [
    "h = open('/Users/dhruvpithadia/Desktop/NMIMS/SEM5/NLP/Lab/Lab_1/Lab_documents/test.txt','a')\n",
    "h.write('\\nHello Python')\n",
    "h = open('/Users/dhruvpithadia/Desktop/NMIMS/SEM5/NLP/Lab/Lab_1/Lab_documents/test.txt','r')\n",
    "print(h.read())"
   ]
  },
  {
   "cell_type": "code",
   "execution_count": 48,
   "metadata": {},
   "outputs": [
    {
     "name": "stdout",
     "output_type": "stream",
     "text": [
      "apple\n",
      "mango\n",
      "banana\n",
      "pear\n",
      "watermelon\n",
      "papaya\n",
      "\n"
     ]
    }
   ],
   "source": [
    "# Define the list of fruits\n",
    "fruits = ['apple', 'mango', 'banana', 'pear', 'watermelon', 'papaya']\n",
    "\n",
    "# Append each fruit to the file\n",
    "with open('/Users/dhruvpithadia/Desktop/NMIMS/SEM5/NLP/Lab/Lab_1/Lab_documents/test.txt', 'w') as i:\n",
    "    for x in fruits:\n",
    "        i.write(f'{x}\\n')\n",
    "\n",
    "# Read and print the file's contents\n",
    "with open('/Users/dhruvpithadia/Desktop/NMIMS/SEM5/NLP/Lab/Lab_1/Lab_documents/test.txt', 'r') as j:\n",
    "    print(j.read())"
   ]
  },
  {
   "cell_type": "code",
   "execution_count": 51,
   "metadata": {},
   "outputs": [
    {
     "name": "stdout",
     "output_type": "stream",
     "text": [
      "Name: Abc\n",
      "Age: 25yrs\n",
      "Qualification: Masters\n",
      "Degree: Engineering\n"
     ]
    }
   ],
   "source": [
    "def read_resume(file_path):\n",
    "    details = {}\n",
    "\n",
    "    with open(file_path, 'r') as file:\n",
    "        for line in file:\n",
    "            if 'Name:' in line:\n",
    "                details['Name'] = line.split(':', 1)[1].strip()\n",
    "            elif 'Age:' in line:\n",
    "                details['Age'] = line.split(':', 1)[1].strip()\n",
    "            elif 'Qualification:' in line:\n",
    "                details['Qualification'] = line.split(':', 1)[1].strip()\n",
    "            elif 'Degree:' in line:\n",
    "                details['Degree'] = line.split(':', 1)[1].strip()\n",
    "    \n",
    "    return details\n",
    "\n",
    "# Path to the resume file\n",
    "file_path = '/Users/dhruvpithadia/Desktop/NMIMS/SEM5/NLP/Lab/Lab_1/Lab_documents/Biodata.txt'\n",
    "\n",
    "# Read and print resume details\n",
    "resume_details = read_resume(file_path)\n",
    "for key, value in resume_details.items():\n",
    "    print(f\"{key}: {value}\")"
   ]
  },
  {
   "cell_type": "code",
   "execution_count": 52,
   "metadata": {},
   "outputs": [
    {
     "name": "stdout",
     "output_type": "stream",
     "text": [
      "Line 3: banana\n"
     ]
    }
   ],
   "source": [
    "def read_specific_line(file_path, line_number):\n",
    "    with open(file_path, 'r') as file:\n",
    "        for current_line in range(line_number):\n",
    "            line = file.readline()\n",
    "            if current_line == line_number - 1:\n",
    "                return line.strip()\n",
    "    return None  # If the line number is out of range\n",
    "\n",
    "# Example usage\n",
    "file_path = '/Users/dhruvpithadia/Desktop/NMIMS/SEM5/NLP/Lab/Lab_1/Lab_documents/test.txt'\n",
    "line_number = 3\n",
    "specific_line = read_specific_line(file_path, line_number)\n",
    "\n",
    "if specific_line:\n",
    "    print(f\"Line {line_number}: {specific_line}\")\n",
    "else:\n",
    "    print(f\"Line {line_number} does not exist in the file.\")"
   ]
  },
  {
   "cell_type": "code",
   "execution_count": 56,
   "metadata": {},
   "outputs": [
    {
     "name": "stdout",
     "output_type": "stream",
     "text": [
      "Found matches: ['the content']\n"
     ]
    }
   ],
   "source": [
    "import re\n",
    "\n",
    "def search_sequence_in_words(file_path, pattern):\n",
    "    matches = []\n",
    "    with open(file_path, 'r') as file:\n",
    "        for line in file:\n",
    "            # Find all words that contain the pattern\n",
    "            words = re.findall(r'\\b\\w*' + pattern + r'\\w*\\b', line)\n",
    "            matches.extend(words)\n",
    "    return matches\n",
    "\n",
    "# Define the pattern: 'he' followed by any two characters, then 'o'\n",
    "pattern = r'he..o'\n",
    "\n",
    "# Example usage\n",
    "file_path = '/Users/dhruvpithadia/Desktop/NMIMS/SEM5/NLP/Lab/Lab_1/Lab_documents/Hello.txt'\n",
    "matches = search_sequence_in_words(file_path, pattern)\n",
    "\n",
    "if matches:\n",
    "    print(\"Found matches:\", matches)\n",
    "else:\n",
    "    print(\"No matches found.\")"
   ]
  },
  {
   "cell_type": "code",
   "execution_count": 57,
   "metadata": {},
   "outputs": [
    {
     "name": "stdout",
     "output_type": "stream",
     "text": [
      "Starts with 'The': True\n",
      "Ends with 'Spain': True\n",
      "Starts with 'The' and ends with 'Spain': True\n"
     ]
    }
   ],
   "source": [
    "txt = \"The rain in Spain\"\n",
    "\n",
    "# i. Check if the string starts with \"The\"\n",
    "starts_with_The = txt.startswith(\"The\")\n",
    "\n",
    "# ii. Check if the string ends with \"Spain\"\n",
    "ends_with_Spain = txt.endswith(\"Spain\")\n",
    "\n",
    "# iii. Check if the string starts with \"The\" and ends with \"Spain\"\n",
    "starts_with_The_and_ends_with_Spain = starts_with_The and ends_with_Spain\n",
    "\n",
    "# Print the results\n",
    "print(f\"Starts with 'The': {starts_with_The}\")\n",
    "print(f\"Ends with 'Spain': {ends_with_Spain}\")\n",
    "print(f\"Starts with 'The' and ends with 'Spain': {starts_with_The_and_ends_with_Spain}\")"
   ]
  },
  {
   "cell_type": "code",
   "execution_count": 58,
   "metadata": {},
   "outputs": [
    {
     "name": "stdout",
     "output_type": "stream",
     "text": [
      "Characters between 'a' and 'm': ['h', 'e', 'a', 'i', 'i', 'a', 'i']\n"
     ]
    }
   ],
   "source": [
    "import re\n",
    "\n",
    "txt = \"The rain in Spain\"\n",
    "\n",
    "# Define the pattern for characters between 'a' and 'm' (case insensitive)\n",
    "pattern = r'[a-mA-M]'\n",
    "\n",
    "# Find all matches\n",
    "matches = re.findall(pattern, txt)\n",
    "\n",
    "# Print the results\n",
    "print(\"Characters between 'a' and 'm':\", matches)"
   ]
  },
  {
   "cell_type": "code",
   "execution_count": 59,
   "metadata": {},
   "outputs": [
    {
     "name": "stdout",
     "output_type": "stream",
     "text": [
      "First whitespace character found at position: 3\n"
     ]
    }
   ],
   "source": [
    "import re\n",
    "\n",
    "txt = \"The rain in Spain\"\n",
    "\n",
    "# Define the pattern for a whitespace character\n",
    "pattern = r'\\s'\n",
    "\n",
    "# Search for the first whitespace character\n",
    "match = re.search(pattern, txt)\n",
    "\n",
    "# Check if a match was found and print the result\n",
    "if match:\n",
    "    print(f\"First whitespace character found at position: {match.start()}\")\n",
    "else:\n",
    "    print(\"No whitespace character found.\")"
   ]
  },
  {
   "cell_type": "code",
   "execution_count": 60,
   "metadata": {},
   "outputs": [
    {
     "name": "stdout",
     "output_type": "stream",
     "text": [
      "The9rain9in9Spain\n"
     ]
    }
   ],
   "source": [
    "import re\n",
    "\n",
    "txt = \"The rain in Spain\"\n",
    "\n",
    "# Define the pattern for a whitespace character\n",
    "pattern = r'\\s'\n",
    "\n",
    "# Replace all whitespace characters with '9'\n",
    "result = re.sub(pattern, '9', txt)\n",
    "\n",
    "# Print the result\n",
    "print(result)"
   ]
  },
  {
   "cell_type": "code",
   "execution_count": 67,
   "metadata": {},
   "outputs": [
    {
     "name": "stdout",
     "output_type": "stream",
     "text": [
      "First Name: dhruv\n",
      "Last Name: pithadia\n",
      "Organisation name: gmail\n",
      "Domain: com\n"
     ]
    }
   ],
   "source": [
    "def email_Split(email):\n",
    "    user_name, domain = email.split('@')\n",
    "    first_name, last_name = user_name.split('.')\n",
    "    organization, domain_name= domain.split('.')\n",
    "    print('First Name:', first_name)\n",
    "    print('Last Name:', last_name)\n",
    "    print('Organisation name:', organization)\n",
    "    print('Domain:', domain_name)\n",
    "\n",
    "email_Split('dhruv.pithadia@gmail.com')"
   ]
  },
  {
   "cell_type": "code",
   "execution_count": 68,
   "metadata": {},
   "outputs": [
    {
     "name": "stdout",
     "output_type": "stream",
     "text": [
      "First Name: dhruv\n",
      "Last Name: pithadia\n",
      "Organization Name: gmail\n",
      "Domain: com\n"
     ]
    }
   ],
   "source": [
    "import re\n",
    "\n",
    "def email_split(email):\n",
    "    # Define the regular expression pattern\n",
    "    pattern = r'^(\\w+)\\.(\\w+)@(\\w+)\\.(\\w+)$'\n",
    "    \n",
    "    # Use re.match to apply the pattern\n",
    "    match = re.match(pattern, email)\n",
    "    \n",
    "    if match:\n",
    "        first_name = match.group(1)\n",
    "        last_name = match.group(2)\n",
    "        organization_name = match.group(3)\n",
    "        domain_name = match.group(4)\n",
    "        \n",
    "        print('First Name:', first_name)\n",
    "        print('Last Name:', last_name)\n",
    "        print('Organization Name:', organization_name)\n",
    "        print('Domain:', domain_name)\n",
    "    else:\n",
    "        print('Invalid email format')\n",
    "\n",
    "# Example usage\n",
    "email_split('dhruv.pithadia@gmail.com')"
   ]
  }
 ],
 "metadata": {
  "kernelspec": {
   "display_name": "Python 3",
   "language": "python",
   "name": "python3"
  },
  "language_info": {
   "codemirror_mode": {
    "name": "ipython",
    "version": 3
   },
   "file_extension": ".py",
   "mimetype": "text/x-python",
   "name": "python",
   "nbconvert_exporter": "python",
   "pygments_lexer": "ipython3",
   "version": "3.12.2"
  }
 },
 "nbformat": 4,
 "nbformat_minor": 2
}
